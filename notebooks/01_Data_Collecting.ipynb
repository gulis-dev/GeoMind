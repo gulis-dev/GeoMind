{
 "cells": [
  {
   "cell_type": "markdown",
   "metadata": {},
   "source": "# Data Collecting",
   "id": "4291ffb5f55e2396"
  },
  {
   "metadata": {},
   "cell_type": "markdown",
   "source": "This document describes the process of gathering and initially processing Street View image data for the GeoMind project.\n",
   "id": "d0995fe67fe23c6d"
  },
  {
   "metadata": {},
   "cell_type": "markdown",
   "source": "### Step 1: Gathering Street View Coordinates\n",
   "id": "f97e04d623a15ef8"
  },
  {
   "metadata": {},
   "cell_type": "markdown",
   "source": [
    "- Initially, I wrote a script that randomly sampled coordinates and checked if Street View was available at each location using the Google API. However, this was inefficient (about `70s/item`).\n",
    "- I found the tool [map-degen](https://map-degen.vercel.app), which generates datasets of Street View coordinates per country. This allowed me to quickly acquire a large set of valid points.\n",
    "- Using this approach, I prepared a list of `100,000` coordinates, dramatically speeding up the collection process."
   ],
   "id": "efac199f4e0a8c09"
  },
  {
   "metadata": {},
   "cell_type": "markdown",
   "source": "### Step 2: Downloading Images via Google Static Street View API",
   "id": "77e9fcafad5d593f"
  },
  {
   "metadata": {},
   "cell_type": "markdown",
   "source": [
    "- With a ready list of coordinates, I used a script to download images via the `Google Static Street View API`.\n",
    "- The average time per image dropped to approximately `1.3s/item`.\n"
   ],
   "id": "ab150b38e9ffd99c"
  },
  {
   "metadata": {},
   "cell_type": "markdown",
   "source": "### Summary",
   "id": "42217289766b222b"
  },
  {
   "metadata": {},
   "cell_type": "markdown",
   "source": [
    "Thanks to [map-degen](https://map-degen.vercel.app) and the `Google Static Street View API`, I prepared a dataset of `100,000` images with coordinates.\n",
    "The next steps will include dataset balancing and augmentation, which are described in subsequent notebooks.\n"
   ],
   "id": "3e8f5b5449ea07a1"
  },
  {
   "metadata": {},
   "cell_type": "markdown",
   "source": "",
   "id": "dbeb2c9c8ff569b0"
  }
 ],
 "metadata": {
  "kernelspec": {
   "display_name": "Python 3",
   "language": "python",
   "name": "python3"
  },
  "language_info": {
   "name": "python",
   "version": "3.11"
  }
 },
 "nbformat": 4,
 "nbformat_minor": 5
}
