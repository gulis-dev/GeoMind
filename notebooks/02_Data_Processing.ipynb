{
 "cells": [
  {
   "metadata": {},
   "cell_type": "markdown",
   "source": "# Data Preprocessing",
   "id": "fa2efc10b1bb4283"
  },
  {
   "metadata": {},
   "cell_type": "markdown",
   "source": "This document describes the initial data preparation steps for the GeoMind project. The main goal was to process a raw metadata file containing geographic coordinates and enrich it with useful labels for training our machine learning model.",
   "id": "5574035ba736d6a7"
  },
  {
   "metadata": {},
   "cell_type": "markdown",
   "source": "### Step 1: Getting the Country Code",
   "id": "7e37118e4aa7b473"
  },
  {
   "metadata": {},
   "cell_type": "markdown",
   "source": "First, I used the `reverse_geocoder` library to get the two-letter country code (e.g., `PL` for Poland or `US` for the United States) for each image. The `rg.search` function took the latitude and longitude of each photo and returned its corresponding country.",
   "id": "2cde805374a27f5e"
  },
  {
   "metadata": {},
   "cell_type": "markdown",
   "source": "### Step 2: Assigning Smart Super-Regions",
   "id": "c2257afb86ca5fce"
  },
  {
   "metadata": {},
   "cell_type": "markdown",
   "source": "Next, I grouped the countries into 13 super-regions. These regions were designed to be visually distinct for the AI, based on clues like language, architecture, and landscape. I created a set of rules to assign each `countryCode` to a specific region.",
   "id": "77acb7de1583ebb"
  },
  {
   "metadata": {},
   "cell_type": "markdown",
   "source": [
    "**Here are the rules I used:**\n",
    "\n",
    "> * **North America:** `US`, `CA`\n",
    "> * **Latin America:** `MX`, `GT`, `SV`, `HN`, `NI`, `CR`, `PA`, `CO`, `VE`, `EC`, `PE`, `BO`, `PY`, `AR`, `CL`, `UY`, `BR`, `GY`, `SR`, `GF`, `CU`, `HT`, `DO`, `PR`, `VI`, `BZ`\n",
    "> * **Western & Northern Europe:** `FR`, `DE`, `NL`, `BE`, `LU`, `AT`, `CH`, `LI`, `GB`, `IE`, `DK`, `SE`, `NO`, `FI`, `IS`, `AX`, `FO`\n",
    "> * **Southern Europe:** `ES`, `PT`, `IT`, `GR`, `MT`, `AD`, `SM`, `VA`, `CY`\n",
    "> * **Eastern Europe & Balkans:** `TR`, `PL`, `CZ`, `SK`, `HU`, `EE`, `LV`, `LT`, `SI`, `HR`, `BA`, `RS`, `ME`, `MK`, `AL`, `RO`, `BG`, `MD`\n",
    "> * **Russia & Cyrillic:** `RU`, `UA`, `BY`, `MN`, `KZ`, `KG`, `UZ`\n",
    "> * **East Asia:** `JP`, `KR`, `TW`, `HK`, `CN`\n",
    "> * **Southeast Asia:** `TH`, `MY`, `SG`, `ID`, `PH`, `VN`, `KH`, `LA`, `BN`, `TL`\n",
    "> * **South Asia:** `IN`, `BD`, `LK`, `BT`, `NP`\n",
    "> * **Africa:** `NA`, `ZA`, `NG`, `KE`, `SZ`, `LS`, `SN`, `BW`, `GH`, `RW`, `UG`, `GM`, `CI`, `BF`, `TG`, `GN`, `TZ`, `ET`, `ML`, `ZW`, `CD`, `GW`\n",
    "> * **Arabia:** `PS`, `LB`, `QA`, `IL`, `AE`, `OM`, `TN`, `JO`, `SY`, `YE`, `MR`\n",
    "> * **Oceania:** `AU`, `NZ`"
   ],
   "id": "14ac4d632fe83e4a"
  },
  {
   "metadata": {},
   "cell_type": "markdown",
   "source": "### Step 3: Adding a Numerical Region ID",
   "id": "bfcee8f1a0cacc33"
  },
  {
   "metadata": {},
   "cell_type": "markdown",
   "source": "Machine learning models work with numbers, not text. Therefore, I added a `region_id` column to convert each region name into a unique number. This ID will be the target label that our model will learn to predict.",
   "id": "482e7483d9672cf7"
  },
  {
   "metadata": {},
   "cell_type": "markdown",
   "source": [
    "**The mapping from region to ID is as follows:**\n",
    "\n",
    "> * **North America:** `0`\n",
    "> * **Latin America:** `1`\n",
    "> * **Western & Northern Europe:** `2`\n",
    "> * **Southern Europe:** `3`\n",
    "> * **Eastern Europe & Balkans:** `4`\n",
    "> * **Russia & Cyrillic:** `5`\n",
    "> * **East Asia:** `6`\n",
    "> * **Southeast Asia:** `7`\n",
    "> * **South Asia:** `8`\n",
    "> * **Africa:** `9`\n",
    "> * **Arabia:** `10`\n",
    "> * **Oceania:** `11`\n",
    "> * **Rare Regions:** `12`\n"
   ],
   "id": "73be23391eae970a"
  },
  {
   "metadata": {},
   "cell_type": "markdown",
   "source": "### Final Step: Saving the Result",
   "id": "7cd7d57950a32fee"
  },
  {
   "metadata": {},
   "cell_type": "markdown",
   "source": "Finally, I saved the fully processed DataFrame to a new file named `metadata_final.csv`. This file is now ready for the next stages of the project, such as data analysis and model training.",
   "id": "8bcd911690354bfe"
  }
 ],
 "metadata": {
  "kernelspec": {
   "display_name": "Python 3",
   "language": "python",
   "name": "python3"
  },
  "language_info": {
   "codemirror_mode": {
    "name": "ipython",
    "version": 2
   },
   "file_extension": ".py",
   "mimetype": "text/x-python",
   "name": "python",
   "nbconvert_exporter": "python",
   "pygments_lexer": "ipython2",
   "version": "2.7.6"
  }
 },
 "nbformat": 4,
 "nbformat_minor": 5
}
